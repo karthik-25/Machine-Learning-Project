{
 "cells": [
  {
   "cell_type": "code",
   "execution_count": 50,
   "metadata": {
    "collapsed": false
   },
   "outputs": [],
   "source": [
    "#!/usr/bin/python\n",
    "\n",
    "import sys\n",
    "import pickle\n",
    "sys.path.append(\"../tools/\")\n",
    "\n",
    "%matplotlib inline\n",
    "import matplotlib as mpl\n",
    "mpl.use('TkAgg')\n",
    "import matplotlib.pyplot as plt\n",
    "\n",
    "from feature_format import featureFormat, targetFeatureSplit\n",
    "from tester import dump_classifier_and_data"
   ]
  },
  {
   "cell_type": "code",
   "execution_count": 51,
   "metadata": {
    "collapsed": true
   },
   "outputs": [],
   "source": [
    "### Load the dictionary containing the dataset\n",
    "with open(\"final_project_dataset.pkl\", \"r\") as data_file:\n",
    "    data_dict = pickle.load(data_file)"
   ]
  },
  {
   "cell_type": "code",
   "execution_count": 52,
   "metadata": {
    "collapsed": false
   },
   "outputs": [],
   "source": [
    "### Data exploration\n",
    "# for key, value in data_dict.items():\n",
    "#     print (key, [item for item in value if item])\n",
    "#     break\n",
    "\n",
    "# for key, value in data_dict.items():\n",
    "#     bonus = value[\"bonus\"]\n",
    "#     salary = value[\"salary\"]\n",
    "#     print key, salary, bonus\n",
    "\n",
    "# for key, value in data_dict.items():\n",
    "#     print key"
   ]
  },
  {
   "cell_type": "code",
   "execution_count": 53,
   "metadata": {
    "collapsed": true
   },
   "outputs": [],
   "source": [
    "### Task 1: Select what features you'll use.\n",
    "### features_list is a list of strings, each of which is a feature name.\n",
    "### The first feature must be \"poi\".\n",
    "features_list = ['poi','salary', 'bonus'] # You will need to use more features"
   ]
  },
  {
   "cell_type": "code",
   "execution_count": 54,
   "metadata": {
    "collapsed": false
   },
   "outputs": [],
   "source": [
    "### Task 2: Remove outliers\n",
    "\n",
    "# Removing the entry that is actually the total amount.\n",
    "don_print = data_dict.pop(\"TOTAL\",0)"
   ]
  },
  {
   "cell_type": "code",
   "execution_count": 55,
   "metadata": {
    "collapsed": false
   },
   "outputs": [],
   "source": [
    "### Task 3: Create new feature(s)\n",
    "### Store to my_dataset for easy export below.\n",
    "my_dataset = data_dict\n"
   ]
  },
  {
   "cell_type": "code",
   "execution_count": 56,
   "metadata": {
    "collapsed": true
   },
   "outputs": [],
   "source": [
    "### Extract features and labels from dataset for local testing\n",
    "data = featureFormat(my_dataset, features_list, sort_keys = True)\n",
    "labels, features = targetFeatureSplit(data)\n",
    "\n",
    "#print data"
   ]
  },
  {
   "cell_type": "code",
   "execution_count": 57,
   "metadata": {
    "collapsed": false
   },
   "outputs": [
    {
     "name": "stdout",
     "output_type": "stream",
     "text": [
      "[[ 0.18138409  0.521875  ]\n",
      " [ 0.          0.        ]\n",
      " [ 0.24003381  0.15      ]]\n"
     ]
    }
   ],
   "source": [
    "### Feature scaling\n",
    "from sklearn.preprocessing import MinMaxScaler\n",
    "\n",
    "scaler = MinMaxScaler()\n",
    "rescaled_features = scaler.fit_transform(features)\n",
    "print rescaled_features[0:3]"
   ]
  },
  {
   "cell_type": "code",
   "execution_count": 58,
   "metadata": {
    "collapsed": false
   },
   "outputs": [
    {
     "data": {
      "image/png": "[encoded data removed]",
      "text/plain": [
       "<matplotlib.figure.Figure at 0x10e3bb3d0>"
      ]
     },
     "metadata": {},
     "output_type": "display_data"
    }
   ],
   "source": [
    "### Visualizing data\n",
    "for point in rescaled_features:\n",
    "    salary = point[0]\n",
    "    bonus = point[1]\n",
    "    plt.scatter( salary, bonus )\n",
    "\n",
    "plt.xlabel(\"salary\")\n",
    "plt.ylabel(\"bonus\")\n",
    "plt.show()"
   ]
  },
  {
   "cell_type": "code",
   "execution_count": 59,
   "metadata": {
    "collapsed": true
   },
   "outputs": [],
   "source": [
    "### Split data into training data and test data\n",
    "from sklearn.model_selection import train_test_split\n",
    "\n",
    "# random_state = 42 is the seed for randomizing the split.\n",
    "features_train, features_test, labels_train, labels_test = \\\n",
    "    train_test_split(rescaled_features, labels, test_size=0.3, random_state=42)"
   ]
  },
  {
   "cell_type": "code",
   "execution_count": 60,
   "metadata": {
    "collapsed": true
   },
   "outputs": [],
   "source": [
    "### Task 4: Try a varity of classifiers\n",
    "### Please name your classifier clf for easy export below.\n",
    "### Note that if you want to do PCA or other multi-stage operations,\n",
    "### you'll need to use Pipelines. For more info:\n",
    "### http://scikit-learn.org/stable/modules/pipeline.html\n",
    "\n",
    "\n",
    "\n",
    "# Create a dictionary to store pred value of various classifiers\n",
    "pred_dict = {}\n",
    "\n",
    "# Provided to give you a starting point. Try a variety of classifiers.\n",
    "# from sklearn.naive_bayes import GaussianNB\n",
    "# clf = GaussianNB()"
   ]
  },
  {
   "cell_type": "code",
   "execution_count": 61,
   "metadata": {
    "collapsed": false
   },
   "outputs": [],
   "source": [
    "# Classifier 1: Decision Tree\n",
    "from sklearn import tree\n",
    "\n",
    "clf = tree.DecisionTreeClassifier()\n",
    "clf.fit(features_train, labels_train)\n",
    "pred = clf.predict(features_test)\n",
    "\n",
    "pred_dict['decision_tree'] = pred"
   ]
  },
  {
   "cell_type": "code",
   "execution_count": 62,
   "metadata": {
    "collapsed": false
   },
   "outputs": [
    {
     "name": "stdout",
     "output_type": "stream",
     "text": [
      "{'C': 1, 'gamma': 1}\n"
     ]
    }
   ],
   "source": [
    "# Classifier 2: SVM\n",
    "from sklearn.svm import SVC\n",
    "from sklearn.model_selection import GridSearchCV\n",
    "\n",
    "params = {'C':[1,10,100,1000,10000], 'gamma':[1,10,100,1000,10000]}\n",
    "svc = SVC(kernel='rbf')\n",
    "clf = GridSearchCV(svc, params)\n",
    "clf.fit(features_train, labels_train)\n",
    "print clf.best_params_\n",
    "\n",
    "pred = clf.predict(features_test)\n",
    "\n",
    "pred_dict['SVM'] = pred"
   ]
  },
  {
   "cell_type": "code",
   "execution_count": 63,
   "metadata": {
    "collapsed": false
   },
   "outputs": [
    {
     "name": "stdout",
     "output_type": "stream",
     "text": [
      "DECISION_TREE\n",
      "acc: 0.655172413793\n",
      "precision_score: 0.2\n",
      "recall_score: 0.142857142857\n",
      "\n",
      "\n",
      "SVM\n",
      "acc: 0.758620689655\n",
      "precision_score: 0.0\n",
      "recall_score: 0.0\n",
      "\n",
      "\n"
     ]
    }
   ],
   "source": [
    "### Task 5: Tune your classifier to achieve better than .3 precision and recall \n",
    "### using our testing script. Check the tester.py script in the final project\n",
    "### folder for details on the evaluation method, especially the test_classifier\n",
    "### function. Because of the small size of the dataset, the script uses\n",
    "### stratified shuffle split cross validation. For more info: \n",
    "### http://scikit-learn.org/stable/modules/generated/sklearn.cross_validation.StratifiedShuffleSplit.html\n",
    "\n",
    "# # Example starting point. Try investigating other evaluation techniques!\n",
    "# from sklearn.cross_validation import train_test_split\n",
    "# features_train, features_test, labels_train, labels_test = \\\n",
    "#     train_test_split(features, labels, test_size=0.3, random_state=42)\n",
    "    \n",
    "\n",
    "#evaluation    \n",
    "from sklearn.metrics import accuracy_score\n",
    "from sklearn.metrics import precision_score\n",
    "from sklearn.metrics import recall_score\n",
    "\n",
    "#print labels_test\n",
    "#print pred_dict\n",
    "\n",
    "for key, value in pred_dict.items():\n",
    "    print key.upper()\n",
    "    acc = accuracy_score(labels_test, value)\n",
    "    ps = precision_score(labels_test, value)\n",
    "    rs = recall_score(labels_test, value)\n",
    "\n",
    "    print \"acc:\", acc\n",
    "    print \"precision_score:\", ps\n",
    "    print \"recall_score:\", rs\n",
    "    print \"\\n\""
   ]
  },
  {
   "cell_type": "code",
   "execution_count": 64,
   "metadata": {
    "collapsed": true
   },
   "outputs": [],
   "source": [
    "### Task 6: Dump your classifier, dataset, and features_list so anyone can\n",
    "### check your results. You do not need to change anything below, but make sure\n",
    "### that the version of poi_id.py that you submit can be run on its own and\n",
    "### generates the necessary .pkl files for validating your results.\n",
    "\n",
    "dump_classifier_and_data(clf, my_dataset, features_list)"
   ]
  },
  {
   "cell_type": "code",
   "execution_count": null,
   "metadata": {
    "collapsed": true
   },
   "outputs": [],
   "source": []
  }
 ],
 "metadata": {
  "kernelspec": {
   "display_name": "Python 2",
   "language": "python",
   "name": "python2"
  },
  "language_info": {
   "codemirror_mode": {
    "name": "ipython",
    "version": 2
   },
   "file_extension": ".py",
   "mimetype": "text/x-python",
   "name": "python",
   "nbconvert_exporter": "python",
   "pygments_lexer": "ipython2",
   "version": "2.7.10"
  }
 },
 "nbformat": 4,
 "nbformat_minor": 1
}
