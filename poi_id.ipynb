{
 "cells": [
  {
   "cell_type": "code",
   "execution_count": 47,
   "metadata": {
    "collapsed": false
   },
   "outputs": [],
   "source": [
    "#!/usr/bin/python\n",
    "\n",
    "import sys\n",
    "import pickle\n",
    "sys.path.append(\"../tools/\")\n",
    "\n",
    "%matplotlib inline\n",
    "import matplotlib as mpl\n",
    "mpl.use('TkAgg')\n",
    "import matplotlib.pyplot as plt\n",
    "\n",
    "from pprint import pprint\n",
    "import operator\n",
    "\n",
    "from feature_format import featureFormat, targetFeatureSplit\n",
    "from tester import dump_classifier_and_data"
   ]
  },
  {
   "cell_type": "markdown",
   "metadata": {},
   "source": [
    "# Data Exploration & Feature Processing\n",
    "\n",
    "Dataset is first loaded into dictionary. Subsequently, data is explored (no. of persons in dataset, features with/without useful information, visualisation of features etc.) with the goal of understanding the data better and selecting the features to use for training the algorithm."
   ]
  },
  {
   "cell_type": "code",
   "execution_count": 48,
   "metadata": {
    "collapsed": true
   },
   "outputs": [],
   "source": [
    "### Load the dictionary containing the dataset\n",
    "with open(\"final_project_dataset.pkl\", \"r\") as data_file:\n",
    "    data_dict = pickle.load(data_file)"
   ]
  },
  {
   "cell_type": "code",
   "execution_count": 49,
   "metadata": {
    "collapsed": false
   },
   "outputs": [
    {
     "name": "stdout",
     "output_type": "stream",
     "text": [
      "The general structure of the dataset is as follows:\n",
      "\n",
      "('METTS MARK', {'salary': 365788, 'to_messages': 807, 'deferral_payments': 'NaN', 'total_payments': 1061827, 'exercised_stock_options': 'NaN', 'bonus': 600000, 'restricted_stock': 585062, 'shared_receipt_with_poi': 702, 'restricted_stock_deferred': 'NaN', 'total_stock_value': 585062, 'expenses': 94299, 'loan_advances': 'NaN', 'from_messages': 29, 'other': 1740, 'from_this_person_to_poi': 1, 'poi': False, 'director_fees': 'NaN', 'deferred_income': 'NaN', 'long_term_incentive': 'NaN', 'email_address': 'mark.metts@enron.com', 'from_poi_to_this_person': 38})\n",
      "\n",
      "\n",
      "Total number of persons in dataset: 145 \n",
      "\n"
     ]
    }
   ],
   "source": [
    "# Structure of dataset\n",
    "print \"The general structure of the dataset is as follows:\\n\"\n",
    "print (data_dict.items()[0])\n",
    "print \"\\n\"\n",
    "\n",
    "### Key Information\n",
    "\n",
    "# During some preliminary analysis and data visualisation, an unnecessary data point, \"TOTAL\", was found to be \n",
    "# present. As this is actually a sum of all other persons in dataset, its not useful here and is removed.\n",
    "data_dict.pop('TOTAL', None)\n",
    "\n",
    "# No. of persons in dataest\n",
    "print \"Total number of persons in dataset:\", len(data_dict), \"\\n\""
   ]
  },
  {
   "cell_type": "code",
   "execution_count": 50,
   "metadata": {
    "collapsed": false
   },
   "outputs": [
    {
     "name": "stdout",
     "output_type": "stream",
     "text": [
      "No. of data pts available for each features (descending order):\n",
      "\n",
      "[('poi', 145), ('total_stock_value', 125), ('total_payments', 124), ('email_address', 111), ('restricted_stock', 109), ('exercised_stock_options', 101), ('salary', 94), ('expenses', 94), ('other', 92), ('to_messages', 86), ('shared_receipt_with_poi', 86), ('from_messages', 86), ('from_poi_to_this_person', 86), ('from_this_person_to_poi', 86), ('bonus', 81), ('long_term_incentive', 65), ('deferred_income', 48), ('deferral_payments', 38), ('restricted_stock_deferred', 17), ('director_fees', 16), ('loan_advances', 3)]\n"
     ]
    }
   ],
   "source": [
    "# This is to see see how many data pts are available for each feature. Since there are 145 persons in total, the\n",
    "# max number of data pts possible for a feature is 145. If number is too low, the feature is mostly NaN, and we \n",
    "# know it wouldn't be ideal to use that feature.\n",
    "available_features_list = (data_dict.items()[0][1]).keys()\n",
    "feature_count = {}\n",
    "for feature in available_features_list:\n",
    "    count = 0\n",
    "    for values in data_dict.values():\n",
    "        if values[feature] != \"NaN\":\n",
    "            count += 1\n",
    "    feature_count[feature] = count\n",
    "\n",
    "sorted_feature_count = sorted(feature_count.items(), key=operator.itemgetter(1), reverse=True)\n",
    "print \"No. of data pts available for each features (descending order):\\n\"\n",
    "print (sorted_feature_count)"
   ]
  },
  {
   "cell_type": "raw",
   "metadata": {},
   "source": [
    "Using some logical intuition, the following was done:\n",
    "- any feature for which less than half the total no. of persons had data, removed from consideration\n",
    "- \"email_address\", \"other\" features were removed as they aren't too useful\n",
    "- \"poi\" removed since its used as label\n",
    "\n",
    "Resulting list shown below are the features to be considered for training."
   ]
  },
  {
   "cell_type": "code",
   "execution_count": 51,
   "metadata": {
    "collapsed": false
   },
   "outputs": [
    {
     "name": "stdout",
     "output_type": "stream",
     "text": [
      "['total_stock_value', 'total_payments', 'restricted_stock', 'exercised_stock_options', 'salary', 'expenses', 'to_messages', 'shared_receipt_with_poi', 'from_messages', 'from_poi_to_this_person', 'from_this_person_to_poi', 'bonus']\n"
     ]
    }
   ],
   "source": [
    "cleaned_feature_list = []\n",
    "for element in sorted_feature_count:\n",
    "    if element[1]>=(145/2) and element[0]!=\"poi\" and element[0]!=\"email_address\" and element[0]!=\"other\":\n",
    "        cleaned_feature_list.append(element[0])\n",
    "\n",
    "print cleaned_feature_list"
   ]
  },
  {
   "cell_type": "code",
   "execution_count": 52,
   "metadata": {
    "collapsed": false
   },
   "outputs": [
    {
     "data": {
      "image/png": "[encoded data removed]",
      "text/plain": [
       "<matplotlib.figure.Figure at 0x113917690>"
      ]
     },
     "metadata": {},
     "output_type": "display_data"
    },
    {
     "data": {
      "image/png": "[encoded data removed]",
      "text/plain": [
       "<matplotlib.figure.Figure at 0x1135a3f90>"
      ]
     },
     "metadata": {},
     "output_type": "display_data"
    }
   ],
   "source": [
    "# Exploring email features\n",
    "\n",
    "# Try visualizing features to identify possible trends\n",
    "for key, value in data_dict.items():\n",
    "    from_poi = value[\"from_poi_to_this_person\"]\n",
    "    to_poi = value[\"from_this_person_to_poi\"]\n",
    "    if value[\"poi\"]==1:\n",
    "        plt.scatter(from_poi, to_poi, color=\"r\")\n",
    "    if value[\"poi\"]==0:\n",
    "        plt.scatter(from_poi, to_poi, color=\"b\")\n",
    "    \n",
    "plt.xlabel(\"from_poi\")\n",
    "plt.ylabel(\"to_poi\")\n",
    "plt.show()\n",
    "\n",
    "# try visualising \n",
    "def compute_fraction(A,B):\n",
    "    if A == \"NaN\" or B == \"NaN\":\n",
    "        return 0\n",
    "\n",
    "    return (1.0*A)/B\n",
    "\n",
    "for key, value in data_dict.items():\n",
    "    from_poi_frac = compute_fraction(value[\"from_poi_to_this_person\"], value[\"to_messages\"])\n",
    "    to_poi_frac = compute_fraction(value[\"from_this_person_to_poi\"], value[\"from_messages\"])\n",
    "\n",
    "    if value[\"poi\"]==1:\n",
    "        plt.scatter(from_poi_frac, to_poi_frac, color=\"r\")\n",
    "    if value[\"poi\"]==0:\n",
    "        plt.scatter(from_poi_frac, to_poi_frac, color=\"b\")\n",
    "    \n",
    "plt.xlabel(\"from_poi_frac\")\n",
    "plt.ylabel(\"to_poi_frac\")\n",
    "plt.show()"
   ]
  },
  {
   "cell_type": "markdown",
   "metadata": {},
   "source": [
    "# Feature Processing\n",
    "\n",
    "As a start, all the finance features were used to "
   ]
  },
  {
   "cell_type": "code",
   "execution_count": 377,
   "metadata": {
    "collapsed": true
   },
   "outputs": [],
   "source": [
    "### Task 1: Select what features you'll use.\n",
    "### features_list is a list of strings, each of which is a feature name.\n",
    "### The first feature must be \"poi\".\n",
    "features_list = ['poi','salary', 'bonus', 'total_stock_value', 'total_payments', 'restricted_stock', \\\n",
    "                 'exercised_stock_options', 'salary', 'expenses'] "
   ]
  },
  {
   "cell_type": "code",
   "execution_count": 378,
   "metadata": {
    "collapsed": false
   },
   "outputs": [],
   "source": [
    "### Task 2: Remove outliers"
   ]
  },
  {
   "cell_type": "code",
   "execution_count": 379,
   "metadata": {
    "collapsed": false
   },
   "outputs": [],
   "source": [
    "### Task 3: Create new feature(s)\n",
    "### Store to my_dataset for easy export below.\n",
    "my_dataset = data_dict"
   ]
  },
  {
   "cell_type": "code",
   "execution_count": 380,
   "metadata": {
    "collapsed": true
   },
   "outputs": [],
   "source": [
    "### Extract features and labels from dataset for local testing\n",
    "data = featureFormat(my_dataset, features_list, sort_keys = True)\n",
    "labels, features = targetFeatureSplit(data)"
   ]
  },
  {
   "cell_type": "code",
   "execution_count": 7,
   "metadata": {
    "collapsed": false
   },
   "outputs": [
    {
     "ename": "NameError",
     "evalue": "name 'features' is not defined",
     "output_type": "error",
     "traceback": [
      "\u001b[0;31m---------------------------------------------------------------------------\u001b[0m",
      "\u001b[0;31mNameError\u001b[0m                                 Traceback (most recent call last)",
      "\u001b[0;32m<ipython-input-7-1e55f387c010>\u001b[0m in \u001b[0;36m<module>\u001b[0;34m()\u001b[0m\n\u001b[1;32m      3\u001b[0m \u001b[0;34m\u001b[0m\u001b[0m\n\u001b[1;32m      4\u001b[0m \u001b[0;31m# random_state = 42 is the seed for randomizing the split.\u001b[0m\u001b[0;34m\u001b[0m\u001b[0;34m\u001b[0m\u001b[0m\n\u001b[0;32m----> 5\u001b[0;31m \u001b[0mfeatures_train\u001b[0m\u001b[0;34m,\u001b[0m \u001b[0mfeatures_test\u001b[0m\u001b[0;34m,\u001b[0m \u001b[0mlabels_train\u001b[0m\u001b[0;34m,\u001b[0m \u001b[0mlabels_test\u001b[0m \u001b[0;34m=\u001b[0m     \u001b[0mtrain_test_split\u001b[0m\u001b[0;34m(\u001b[0m\u001b[0mfeatures\u001b[0m\u001b[0;34m,\u001b[0m \u001b[0mlabels\u001b[0m\u001b[0;34m,\u001b[0m \u001b[0mtest_size\u001b[0m\u001b[0;34m=\u001b[0m\u001b[0;36m0.3\u001b[0m\u001b[0;34m,\u001b[0m \u001b[0mrandom_state\u001b[0m\u001b[0;34m=\u001b[0m\u001b[0;36m42\u001b[0m\u001b[0;34m)\u001b[0m\u001b[0;34m\u001b[0m\u001b[0m\n\u001b[0m\u001b[1;32m      6\u001b[0m \u001b[0;34m\u001b[0m\u001b[0m\n",
      "\u001b[0;31mNameError\u001b[0m: name 'features' is not defined"
     ]
    }
   ],
   "source": [
    "### Split data into training data and test data\n",
    "from sklearn.model_selection import train_test_split\n",
    "\n",
    "# random_state = 42 is the seed for randomizing the split.\n",
    "features_train, features_test, labels_train, labels_test = \\\n",
    "    train_test_split(features, labels, test_size=0.3, random_state=42)\n",
    "    "
   ]
  },
  {
   "cell_type": "markdown",
   "metadata": {},
   "source": [
    "# Algorithms\n",
    "\n",
    "<h3>PCA + Algos</h3>\n",
    "<br>"
   ]
  },
  {
   "cell_type": "code",
   "execution_count": null,
   "metadata": {
    "collapsed": true
   },
   "outputs": [],
   "source": []
  },
  {
   "cell_type": "markdown",
   "metadata": {},
   "source": [
    "<h3>PCA + Algos</h3>\n",
    "<br>\n",
    "Attempted deploying PCA to transform finance related features. Subsequently ran SVM, Decision Tree and K Nearest Neighbours algorithms on the transformed data."
   ]
  },
  {
   "cell_type": "code",
   "execution_count": 382,
   "metadata": {
    "collapsed": false
   },
   "outputs": [],
   "source": [
    "### trying PCA\n",
    "from sklearn.decomposition import PCA\n",
    "\n",
    "pca = PCA(n_components=2)\n",
    "pca.fit(features_train)\n",
    "\n",
    "#print pca.explained_variance_ratio_\n",
    "\n",
    "#print \"first pc\", pca.components_[0]\n",
    "#print \"second pc\", pca.components_[1]\n",
    "#print \"third pc\", pca.components_[2]\n",
    "\n",
    "trans_features_train = pca.transform(features_train)\n",
    "\n",
    "# i=0\n",
    "# for point in transformed_features:\n",
    "#     x = point[0]\n",
    "#     y = point[1]\n",
    "#     plt.scatter( x, y )\n",
    "#     if labels[i] == 1:\n",
    "#         plt.scatter(x, y, color=\"r\")\n",
    "#     else:\n",
    "#         plt.scatter(x, y, color=\"b\")\n",
    "#     i+=1\n",
    "\n",
    "# plt.xlabel(\"x\")\n",
    "# plt.ylabel(\"y\")\n",
    "# plt.show()"
   ]
  },
  {
   "cell_type": "code",
   "execution_count": 383,
   "metadata": {
    "collapsed": false
   },
   "outputs": [],
   "source": [
    "from sklearn.svm import SVC\n",
    "from sklearn.model_selection import GridSearchCV\n",
    "\n",
    "#params = {'C':[1,10,100,1000,10000], 'gamma':[1,10,100,1000,10000]}\n",
    "svc = SVC(kernel='rbf')\n",
    "svc.fit(trans_features_train, labels_train)\n",
    "\n",
    "trans_features_test = pca.transform(features_test)\n",
    "svc_pred = svc.predict(trans_features_test)"
   ]
  },
  {
   "cell_type": "code",
   "execution_count": 384,
   "metadata": {
    "collapsed": true
   },
   "outputs": [],
   "source": [
    "from sklearn import tree\n",
    "\n",
    "clf = tree.DecisionTreeClassifier(min_samples_split=10)\n",
    "clf.fit(trans_features_train, labels_train)\n",
    "tree_pred = clf.predict(trans_features_test)\n"
   ]
  },
  {
   "cell_type": "code",
   "execution_count": 385,
   "metadata": {
    "collapsed": true
   },
   "outputs": [],
   "source": [
    "from sklearn.neighbors import KNeighborsClassifier\n",
    "\n",
    "clf = KNeighborsClassifier(n_neighbors=3)\n",
    "clf.fit(trans_features_train, labels_train)\n",
    "knn_pred = clf.predict(trans_features_test)"
   ]
  },
  {
   "cell_type": "code",
   "execution_count": 388,
   "metadata": {
    "collapsed": false
   },
   "outputs": [
    {
     "name": "stdout",
     "output_type": "stream",
     "text": [
      "svc_acc: 0.860465116279\n",
      "svc_precision_score: 0.0\n",
      "svc_recall_score: 0.0\n",
      "\n",
      "\n",
      "tree_acc: 0.837209302326\n",
      "tree_precision_score: 0.0\n",
      "tree_recall_score: 0.0\n",
      "\n",
      "\n",
      "knn_acc: 0.837209302326\n",
      "knn_precision_score: 0.0\n",
      "knn_recall_score: 0.0\n"
     ]
    }
   ],
   "source": [
    "from sklearn.metrics import accuracy_score, precision_score, recall_score\n",
    "\n",
    "acc = accuracy_score(labels_test, svc_pred)\n",
    "ps = precision_score(labels_test, svc_pred)\n",
    "rs = recall_score(labels_test, svc_pred)\n",
    "\n",
    "print \"svc_acc:\", acc\n",
    "print \"svc_precision_score:\", ps\n",
    "print \"svc_recall_score:\", rs\n",
    "\n",
    "print \"\\n\"\n",
    "\n",
    "acc1 = accuracy_score(labels_test, tree_pred)\n",
    "ps1 = precision_score(labels_test, tree_pred)\n",
    "rs1 = recall_score(labels_test, tree_pred)\n",
    "\n",
    "print \"tree_acc:\", acc1\n",
    "print \"tree_precision_score:\", ps1\n",
    "print \"tree_recall_score:\", rs1\n",
    "\n",
    "print \"\\n\"\n",
    "\n",
    "acc2 = accuracy_score(labels_test, knn_pred)\n",
    "ps2 = precision_score(labels_test, knn_pred)\n",
    "rs2 = recall_score(labels_test, knn_pred)\n",
    "\n",
    "print \"knn_acc:\", acc2\n",
    "print \"knn_precision_score:\", ps2\n",
    "print \"knn_recall_score:\", rs2"
   ]
  },
  {
   "cell_type": "markdown",
   "metadata": {},
   "source": [
    "# Other Algos (in progress)"
   ]
  },
  {
   "cell_type": "code",
   "execution_count": 93,
   "metadata": {
    "collapsed": false
   },
   "outputs": [
    {
     "name": "stdout",
     "output_type": "stream",
     "text": [
      "[[  1.81735475e-01   5.21875000e-01   5.03529074e-02   4.33029255e-02]\n",
      " [  0.00000000e+00   0.00000000e+00   7.50594264e-03   1.76193863e-03]\n",
      " [  4.29243254e-04   0.00000000e+00   1.17797594e-01   8.84703391e-03]]\n"
     ]
    }
   ],
   "source": [
    "### Feature scaling\n",
    "from sklearn.preprocessing import MinMaxScaler\n",
    "\n",
    "scaler = MinMaxScaler()\n",
    "rescaled_features = scaler.fit_transform(features)\n",
    "print rescaled_features[0:3]"
   ]
  },
  {
   "cell_type": "code",
   "execution_count": 94,
   "metadata": {
    "collapsed": false
   },
   "outputs": [
    {
     "data": {
      "image/png": "[encoded data removed]",
      "text/plain": [
       "<matplotlib.figure.Figure at 0x10994bd10>"
      ]
     },
     "metadata": {},
     "output_type": "display_data"
    }
   ],
   "source": [
    "### Visualizing data\n",
    "for point in rescaled_features:\n",
    "    salary = point[0]\n",
    "    bonus = point[1]\n",
    "    plt.scatter( salary, bonus )\n",
    "\n",
    "plt.xlabel(\"salary\")\n",
    "plt.ylabel(\"bonus\")\n",
    "plt.show()"
   ]
  },
  {
   "cell_type": "code",
   "execution_count": 109,
   "metadata": {
    "collapsed": false
   },
   "outputs": [
    {
     "name": "stdout",
     "output_type": "stream",
     "text": [
      "[0.0, 0.0, 0.0, 0.0, 0.0, 1.0, 0.0, 0.0, 0.0, 0.0, 0.0, 0.0, 0.0, 0.0, 0.0, 0.0, 0.0, 0.0, 0.0, 0.0, 0.0, 1.0, 0.0, 0.0, 0.0, 0.0, 0.0, 0.0, 0.0, 0.0, 1.0, 0.0, 0.0, 0.0, 0.0, 0.0, 0.0, 1.0, 1.0, 0.0, 0.0, 0.0]\n",
      "[0.0, 0.0, 0.0, 0.0, 0.0, 0.0, 0.0, 1.0, 0.0, 0.0, 0.0, 0.0, 0.0, 0.0, 0.0, 1.0, 0.0, 0.0, 0.0, 0.0, 1.0, 0.0, 1.0, 0.0, 1.0, 0.0, 0.0, 0.0, 0.0, 1.0, 0.0, 0.0, 0.0, 0.0, 0.0, 0.0, 0.0, 0.0, 0.0, 0.0, 0.0, 1.0, 0.0, 0.0, 0.0, 0.0, 0.0, 0.0, 0.0, 0.0, 0.0, 0.0, 1.0, 0.0, 0.0, 0.0, 0.0, 1.0, 0.0, 0.0, 0.0, 0.0, 1.0, 0.0, 0.0, 0.0, 0.0, 0.0, 0.0, 0.0, 0.0, 0.0, 0.0, 1.0, 1.0, 0.0, 1.0, 0.0, 0.0, 0.0, 0.0, 0.0, 0.0, 0.0, 0.0, 0.0, 0.0, 0.0, 0.0, 0.0, 0.0, 0.0, 0.0, 0.0, 0.0, 0.0, 0.0, 0.0, 0.0, 0.0, 0.0, 0.0, 0.0, 0.0, 0.0, 0.0, 1.0, 1.0, 0.0, 0.0, 0.0, 0.0, 0.0, 1.0, 0.0, 0.0, 1.0, 0.0, 0.0, 0.0, 0.0, 0.0, 0.0, 0.0, 0.0, 0.0, 0.0, 0.0, 0.0, 0.0, 0.0, 0.0, 0.0, 0.0, 0.0, 0.0, 0.0, 1.0, 0.0]\n"
     ]
    }
   ],
   "source": [
    "### Split data into training data and test data\n",
    "from sklearn.model_selection import train_test_split\n",
    "\n",
    "# random_state = 42 is the seed for randomizing the split.\n",
    "features_train, features_test, labels_train, labels_test = \\\n",
    "    train_test_split(rescaled_features, labels, test_size=0.3, random_state=4)\n",
    "    \n",
    "print labels_test\n",
    "print labels"
   ]
  },
  {
   "cell_type": "code",
   "execution_count": 110,
   "metadata": {
    "collapsed": false
   },
   "outputs": [],
   "source": [
    "from sklearn.pipeline import Pipeline, make_pipeline\n",
    "from sklearn.decomposition import PCA\n",
    "\n",
    "# pca = PCA(n_components=2)\n",
    "# pca.fit(features)\n",
    "\n",
    "# pipe = make_pipeline(PCA())\n",
    "# #pipe.set_params(pca__n_components=5)\n",
    "# pipe"
   ]
  },
  {
   "cell_type": "code",
   "execution_count": 111,
   "metadata": {
    "collapsed": true
   },
   "outputs": [],
   "source": [
    "### Task 4: Try a varity of classifiers\n",
    "### Please name your classifier clf for easy export below.\n",
    "### Note that if you want to do PCA or other multi-stage operations,\n",
    "### you'll need to use Pipelines. For more info:\n",
    "### http://scikit-learn.org/stable/modules/pipeline.html\n",
    "\n",
    "\n",
    "\n",
    "# Create a dictionary to store pred value of various classifiers\n",
    "pred_dict = {}\n",
    "\n",
    "# Provided to give you a starting point. Try a variety of classifiers.\n",
    "# from sklearn.naive_bayes import GaussianNB\n",
    "# clf = GaussianNB()"
   ]
  },
  {
   "cell_type": "code",
   "execution_count": 112,
   "metadata": {
    "collapsed": false
   },
   "outputs": [],
   "source": [
    "# Classifier 1: Decision Tree\n",
    "from sklearn import tree\n",
    "\n",
    "clf = tree.DecisionTreeClassifier()\n",
    "clf.fit(features_train, labels_train)\n",
    "pred = clf.predict(features_test)\n",
    "\n",
    "pred_dict['decision_tree'] = pred"
   ]
  },
  {
   "cell_type": "code",
   "execution_count": 113,
   "metadata": {
    "collapsed": false
   },
   "outputs": [
    {
     "name": "stdout",
     "output_type": "stream",
     "text": [
      "{'C': 1, 'gamma': 1}\n"
     ]
    }
   ],
   "source": [
    "# Classifier 2: SVM\n",
    "from sklearn.svm import SVC\n",
    "from sklearn.model_selection import GridSearchCV\n",
    "\n",
    "params = {'C':[1,10,100,1000,10000], 'gamma':[1,10,100,1000,10000]}\n",
    "svc = SVC(kernel='rbf')\n",
    "clf = GridSearchCV(svc, params)\n",
    "clf.fit(features_train, labels_train)\n",
    "print clf.best_params_\n",
    "\n",
    "pred = clf.predict(features_test)\n",
    "\n",
    "\n",
    "pred_dict['SVM'] = pred"
   ]
  },
  {
   "cell_type": "code",
   "execution_count": 115,
   "metadata": {
    "collapsed": false
   },
   "outputs": [
    {
     "name": "stdout",
     "output_type": "stream",
     "text": [
      "[0.0, 0.0, 0.0, 0.0, 0.0, 1.0, 0.0, 0.0, 0.0, 0.0, 0.0, 0.0, 0.0, 0.0, 0.0, 0.0, 0.0, 0.0, 0.0, 0.0, 0.0, 1.0, 0.0, 0.0, 0.0, 0.0, 0.0, 0.0, 0.0, 0.0, 1.0, 0.0, 0.0, 0.0, 0.0, 0.0, 0.0, 1.0, 1.0, 0.0, 0.0, 0.0]\n",
      "{'PCA_SVM': array([ 0.,  0.,  0.,  0.,  0.,  0.,  0.,  0.,  0.,  0.,  0.,  0.,  0.,\n",
      "        0.,  0.,  0.,  0.,  0.,  0.,  0.,  0.,  0.,  0.,  0.,  0.,  0.,\n",
      "        0.,  0.,  0.,  0.,  0.,  0.,  0.,  0.,  0.,  0.,  0.,  0.,  0.,\n",
      "        0.,  0.,  0.]),\n",
      " 'SVM': array([ 0.,  0.,  0.,  0.,  0.,  0.,  0.,  0.,  0.,  0.,  0.,  0.,  0.,\n",
      "        0.,  0.,  0.,  0.,  0.,  0.,  0.,  0.,  0.,  0.,  0.,  0.,  0.,\n",
      "        0.,  0.,  0.,  0.,  0.,  0.,  0.,  0.,  0.,  0.,  0.,  0.,  0.,\n",
      "        0.,  0.,  0.]),\n",
      " 'decision_tree': array([ 0.,  0.,  0.,  0.,  0.,  1.,  1.,  0.,  0.,  0.,  0.,  1.,  0.,\n",
      "        1.,  0.,  0.,  0.,  0.,  0.,  0.,  1.,  0.,  1.,  0.,  0.,  0.,\n",
      "        0.,  1.,  0.,  0.,  1.,  0.,  0.,  0.,  0.,  0.,  0.,  1.,  1.,\n",
      "        0.,  0.,  0.])}\n",
      "DECISION_TREE\n",
      "acc: 0.833333333333\n",
      "precision_score: 0.4\n",
      "recall_score: 0.8\n",
      "\n",
      "\n",
      "SVM\n",
      "acc: 0.880952380952\n",
      "precision_score: 0.0\n",
      "recall_score: 0.0\n",
      "\n",
      "\n",
      "PCA_SVM\n",
      "acc: 0.880952380952\n",
      "precision_score: 0.0\n",
      "recall_score: 0.0\n",
      "\n",
      "\n"
     ]
    }
   ],
   "source": [
    "### Task 5: Tune your classifier to achieve better than .3 precision and recall \n",
    "### using our testing script. Check the tester.py script in the final project\n",
    "### folder for details on the evaluation method, especially the test_classifier\n",
    "### function. Because of the small size of the dataset, the script uses\n",
    "### stratified shuffle split cross validation. For more info: \n",
    "### http://scikit-learn.org/stable/modules/generated/sklearn.cross_validation.StratifiedShuffleSplit.html\n",
    "\n",
    "# # Example starting point. Try investigating other evaluation techniques!\n",
    "# from sklearn.cross_validation import train_test_split\n",
    "# features_train, features_test, labels_train, labels_test = \\\n",
    "#     train_test_split(features, labels, test_size=0.3, random_state=42)\n",
    "    \n",
    "\n",
    "#evaluation    \n",
    "from sklearn.metrics import accuracy_score\n",
    "from sklearn.metrics import precision_score\n",
    "from sklearn.metrics import recall_score\n",
    "\n",
    "from pprint import pprint\n",
    "print labels_test\n",
    "pprint(pred_dict)\n",
    "\n",
    "for key, value in pred_dict.items():\n",
    "    print key.upper()\n",
    "    acc = accuracy_score(labels_test, value)\n",
    "    ps = precision_score(labels_test, value)\n",
    "    rs = recall_score(labels_test, value)\n",
    "\n",
    "    print \"acc:\", acc\n",
    "    print \"precision_score:\", ps\n",
    "    print \"recall_score:\", rs\n",
    "    print \"\\n\""
   ]
  },
  {
   "cell_type": "code",
   "execution_count": 64,
   "metadata": {
    "collapsed": true
   },
   "outputs": [],
   "source": [
    "### Task 6: Dump your classifier, dataset, and features_list so anyone can\n",
    "### check your results. You do not need to change anything below, but make sure\n",
    "### that the version of poi_id.py that you submit can be run on its own and\n",
    "### generates the necessary .pkl files for validating your results.\n",
    "\n",
    "dump_classifier_and_data(clf, my_dataset, features_list)"
   ]
  },
  {
   "cell_type": "code",
   "execution_count": null,
   "metadata": {
    "collapsed": true
   },
   "outputs": [],
   "source": []
  }
 ],
 "metadata": {
  "kernelspec": {
   "display_name": "Python 2",
   "language": "python",
   "name": "python2"
  },
  "language_info": {
   "codemirror_mode": {
    "name": "ipython",
    "version": 2
   },
   "file_extension": ".py",
   "mimetype": "text/x-python",
   "name": "python",
   "nbconvert_exporter": "python",
   "pygments_lexer": "ipython2",
   "version": "2.7.10"
  }
 },
 "nbformat": 4,
 "nbformat_minor": 1
}
