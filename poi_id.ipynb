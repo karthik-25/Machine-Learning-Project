{
 "cells": [
  {
   "cell_type": "code",
   "execution_count": 47,
   "metadata": {
    "collapsed": false
   },
   "outputs": [],
   "source": [
    "#!/usr/bin/python\n",
    "\n",
    "import sys\n",
    "import pickle\n",
    "sys.path.append(\"./tools/\")\n",
    "\n",
    "%matplotlib inline\n",
    "import matplotlib as mpl\n",
    "mpl.use('TkAgg')\n",
    "import matplotlib.pyplot as plt\n",
    "import numpy\n",
    "\n",
    "from pprint import pprint\n",
    "import operator\n",
    "\n",
    "from feature_format import featureFormat, targetFeatureSplit\n",
    "from tester import dump_classifier_and_data"
   ]
  },
  {
   "cell_type": "markdown",
   "metadata": {},
   "source": [
    "# Data Exploration & Feature Processing\n",
    "\n",
    "Dataset is first loaded into dictionary. Subsequently, data is explored (no. of persons in dataset, features with/without useful information, visualisation of features etc.) with the goal of understanding the data better and selecting the optimal features to use for training the algorithm."
   ]
  },
  {
   "cell_type": "code",
   "execution_count": 2,
   "metadata": {
    "collapsed": true
   },
   "outputs": [],
   "source": [
    "### Load the dictionary containing the dataset\n",
    "with open(\"final_project_dataset.pkl\", \"r\") as data_file:\n",
    "    data_dict = pickle.load(data_file)"
   ]
  },
  {
   "cell_type": "code",
   "execution_count": 3,
   "metadata": {
    "collapsed": false
   },
   "outputs": [
    {
     "name": "stdout",
     "output_type": "stream",
     "text": [
      "The general structure of the dataset is as follows:\n",
      "\n",
      "('METTS MARK', {'salary': 365788, 'to_messages': 807, 'deferral_payments': 'NaN', 'total_payments': 1061827, 'exercised_stock_options': 'NaN', 'bonus': 600000, 'restricted_stock': 585062, 'shared_receipt_with_poi': 702, 'restricted_stock_deferred': 'NaN', 'total_stock_value': 585062, 'expenses': 94299, 'loan_advances': 'NaN', 'from_messages': 29, 'other': 1740, 'from_this_person_to_poi': 1, 'poi': False, 'director_fees': 'NaN', 'deferred_income': 'NaN', 'long_term_incentive': 'NaN', 'email_address': 'mark.metts@enron.com', 'from_poi_to_this_person': 38})\n",
      "\n",
      "\n",
      "Total number of persons in dataset: 145 \n",
      "\n"
     ]
    }
   ],
   "source": [
    "# Structure of dataset (print out a key, value pair from data_dict)\n",
    "print \"The general structure of the dataset is as follows:\\n\"\n",
    "print (data_dict.items()[0])\n",
    "print \"\\n\"\n",
    "\n",
    "### Key Information\n",
    "\n",
    "# Removing outlier (Udacity requirement - Task 2)\n",
    "# During some preliminary analysis and data visualisation, an unnecessary data point, \"TOTAL\", was found to be \n",
    "# present. As this is actually a sum of all other persons in dataset, its not useful here and is removed.\n",
    "data_dict.pop('TOTAL', None)\n",
    "\n",
    "# No. of persons in dataest\n",
    "print \"Total number of persons in dataset:\", len(data_dict), \"\\n\""
   ]
  },
  {
   "cell_type": "code",
   "execution_count": 4,
   "metadata": {
    "collapsed": false
   },
   "outputs": [
    {
     "name": "stdout",
     "output_type": "stream",
     "text": [
      "No. of data pts available for each features (descending order):\n",
      "\n",
      "[('poi', 145), ('total_stock_value', 125), ('total_payments', 124), ('email_address', 111), ('restricted_stock', 109), ('exercised_stock_options', 101), ('salary', 94), ('expenses', 94), ('other', 92), ('to_messages', 86), ('shared_receipt_with_poi', 86), ('from_messages', 86), ('from_poi_to_this_person', 86), ('from_this_person_to_poi', 86), ('bonus', 81), ('long_term_incentive', 65), ('deferred_income', 48), ('deferral_payments', 38), ('restricted_stock_deferred', 17), ('director_fees', 16), ('loan_advances', 3)]\n"
     ]
    }
   ],
   "source": [
    "# Find how many data pts are available for each feature. \n",
    "# Since there are 145 persons in total, the max number of data pts possible for a feature is 145. \n",
    "# If number is too low (ie. feature is mostly NaN), it would probably not be ideal to use that feature for training.\n",
    "\n",
    "available_features_list = (data_dict.items()[0][1]).keys()\n",
    "feature_count = {}\n",
    "\n",
    "for feature in available_features_list:\n",
    "    count = 0\n",
    "    for values in data_dict.values():\n",
    "        if values[feature] != \"NaN\":\n",
    "            count += 1\n",
    "    feature_count[feature] = count\n",
    "\n",
    "sorted_feature_count = sorted(feature_count.items(), key=operator.itemgetter(1), reverse=True)\n",
    "\n",
    "print \"No. of data pts available for each features (descending order):\\n\"\n",
    "print (sorted_feature_count)"
   ]
  },
  {
   "cell_type": "markdown",
   "metadata": {},
   "source": [
    "Using some logical intuition, the following was done:\n",
    "- any feature for which less than half the total no. of persons had data, was removed from consideration\n",
    "- \"email_address\", \"other\" features were removed as they aren't too useful\n",
    "- \"poi\" removed since its used as label\n",
    "\n",
    "Resulting list shown below are the features to be considered for training."
   ]
  },
  {
   "cell_type": "code",
   "execution_count": 5,
   "metadata": {
    "collapsed": false
   },
   "outputs": [
    {
     "name": "stdout",
     "output_type": "stream",
     "text": [
      "['total_stock_value', 'total_payments', 'restricted_stock', 'exercised_stock_options', 'salary', 'expenses', 'to_messages', 'shared_receipt_with_poi', 'from_messages', 'from_poi_to_this_person', 'from_this_person_to_poi', 'bonus']\n",
      "12 features\n"
     ]
    }
   ],
   "source": [
    "cleaned_feature_list = []\n",
    "\n",
    "for element in sorted_feature_count:\n",
    "    if element[1]>=(145/2) and element[0]!=\"poi\" and element[0]!=\"email_address\" and element[0]!=\"other\":\n",
    "        cleaned_feature_list.append(element[0])\n",
    "\n",
    "print cleaned_feature_list\n",
    "print len(cleaned_feature_list), \"features\""
   ]
  },
  {
   "cell_type": "markdown",
   "metadata": {},
   "source": [
    "<h3>Creating/processing new features</h3>\n",
    "\n",
    "As part of Udacity's requirements for the final project, new features were to be implemented based on the understanding of the data, and its strength compared to other features had to be considered when selecting features for training the final algoritm.\n",
    "\n",
    "The email features were explored for this requirement and new features were implemented as shown below."
   ]
  },
  {
   "cell_type": "code",
   "execution_count": 6,
   "metadata": {
    "collapsed": false
   },
   "outputs": [
    {
     "data": {
      "image/png": "[encoded data removed]",
      "text/plain": [
       "<matplotlib.figure.Figure at 0x111ad3e50>"
      ]
     },
     "metadata": {},
     "output_type": "display_data"
    }
   ],
   "source": [
    "# Initial visualization of email features to identify possible trends\n",
    "\n",
    "for key, value in data_dict.items():\n",
    "    from_poi = value[\"from_poi_to_this_person\"]\n",
    "    to_poi = value[\"from_this_person_to_poi\"]\n",
    "    if value[\"poi\"]==1:\n",
    "        plt.scatter(from_poi, to_poi, color=\"r\")\n",
    "    if value[\"poi\"]==0:\n",
    "        plt.scatter(from_poi, to_poi, color=\"b\")\n",
    "\n",
    "plt.xlabel(\"from_poi\")\n",
    "plt.ylabel(\"to_poi\")\n",
    "\n",
    "plt.show()"
   ]
  },
  {
   "cell_type": "markdown",
   "metadata": {},
   "source": [
    "In addition to not displaying any strong trend, this plot is not exactly a good representation of the features across the persons as the data points are not normalised to the number of emails sent or received by each person. \n",
    "\n",
    "Consequently, for each person, the fraction of emails sent/received that were to/from POI was calculated and then added to dataset. The data was also visualised as shown below."
   ]
  },
  {
   "cell_type": "code",
   "execution_count": 7,
   "metadata": {
    "collapsed": false
   },
   "outputs": [
    {
     "data": {
      "image/png": "[encoded data removed]",
      "text/plain": [
       "<matplotlib.figure.Figure at 0x111ad3bd0>"
      ]
     },
     "metadata": {},
     "output_type": "display_data"
    }
   ],
   "source": [
    "def compute_fraction(A,B):\n",
    "    if A == \"NaN\" or B == \"NaN\":\n",
    "        return 0\n",
    "\n",
    "    return (1.0*A)/B\n",
    "\n",
    "for key, value in data_dict.items():\n",
    "    # compute fraction\n",
    "    from_poi_frac = compute_fraction(value[\"from_poi_to_this_person\"], value[\"to_messages\"])\n",
    "    to_poi_frac = compute_fraction(value[\"from_this_person_to_poi\"], value[\"from_messages\"])\n",
    "    \n",
    "    # store in data_dict\n",
    "    value[\"from_poi_frac\"] = from_poi_frac\n",
    "    value[\"to_poi_frac\"] = to_poi_frac\n",
    "    \n",
    "    if value[\"poi\"]==1:\n",
    "        plt.scatter(from_poi_frac, to_poi_frac, color=\"r\")\n",
    "    if value[\"poi\"]==0:\n",
    "        plt.scatter(from_poi_frac, to_poi_frac, color=\"b\")\n",
    "    \n",
    "plt.xlabel(\"from_poi_frac\")\n",
    "plt.ylabel(\"to_poi_frac\")\n",
    "plt.show()"
   ]
  },
  {
   "cell_type": "markdown",
   "metadata": {},
   "source": [
    "While no significant trend was seen, the red points (poi) and blue points (non-poi) are slightly more distinctly separated into clusters which could potentially contribute to training the algorithm. The effect/importance of each feature including these are examined later.\n",
    "\n",
    "As such, the new list of features to consider would be as follows:"
   ]
  },
  {
   "cell_type": "code",
   "execution_count": 8,
   "metadata": {
    "collapsed": false
   },
   "outputs": [
    {
     "name": "stdout",
     "output_type": "stream",
     "text": [
      "['total_stock_value', 'total_payments', 'restricted_stock', 'exercised_stock_options', 'salary', 'expenses', 'shared_receipt_with_poi', 'bonus', 'from_poi_frac', 'to_poi_frac']\n",
      "Total: 10 features\n"
     ]
    }
   ],
   "source": [
    "cleaned_feature_list.remove(\"from_poi_to_this_person\")\n",
    "cleaned_feature_list.remove(\"to_messages\")\n",
    "cleaned_feature_list.remove(\"from_this_person_to_poi\")\n",
    "cleaned_feature_list.remove(\"from_messages\")\n",
    "\n",
    "cleaned_feature_list.append(\"from_poi_frac\")\n",
    "cleaned_feature_list.append(\"to_poi_frac\")\n",
    "\n",
    "print cleaned_feature_list\n",
    "print \"Total:\", len(cleaned_feature_list), \"features\"\n",
    "\n",
    "# New features created are part of the feature list as seen below (Udacity requirement - Task 3)"
   ]
  },
  {
   "cell_type": "markdown",
   "metadata": {},
   "source": [
    "<h3>Feature selection</h3>\n",
    "\n",
    "With the 10 features to be considered for training, the next step was to figure out whether to use all 10 features for training, or just a subset and if the latter, which features to select. \n",
    "\n",
    "To find the optimal selection, 8 different selections of features were made using sklearn's feature selection tool where k took on values from 3-10. k refers to the parameter in SelectKBest function, which selects the best k features from a given list of features. So, after the loop was run, there were 8 sets of features with the first set having the best 3 features, next having best 4 features and so on till the 8th set which had all 10 features. Within each these feature selections, the data was split into training and test data. \n",
    "\n",
    "In the next section, \"Algorithms\", different algos were trained using the training data and then evaluated using the test data for each of the 8 feature sets. In this way, it was possible to simultaneously identify the best selection of features as well as the best training algorithm. "
   ]
  },
  {
   "cell_type": "code",
   "execution_count": 9,
   "metadata": {
    "collapsed": false
   },
   "outputs": [],
   "source": [
    "# feature_list below is input for Udacity's starter code.\n",
    "# It is a list of strings, each of which is a feature name. The first feature must be \"poi\" (label).\n",
    "\n",
    "features_list = ['poi','salary', 'bonus', 'total_stock_value', 'total_payments', 'restricted_stock', \\\n",
    "                 'exercised_stock_options', 'expenses', 'shared_receipt_with_poi', 'from_poi_frac', 'to_poi_frac']\n",
    "\n",
    "\n",
    "# Store to \"my_dataset\" for easy export below. \"my_dataset\" is input for Udacity's starter code.\n",
    "my_dataset = data_dict\n",
    "\n",
    "\n",
    "# featureFormat, targetFeatureSplit are functions from Udacity's starter code. As mentioned under Project Requirements\n",
    "# (in README.md), these functions take in the dataset and the features chosen, and puts them into a numpy array \n",
    "# suitable for input for sklearn functions. \n",
    "\n",
    "data = featureFormat(my_dataset, features_list, sort_keys = True)\n",
    "labels, features = targetFeatureSplit(data)"
   ]
  },
  {
   "cell_type": "code",
   "execution_count": 10,
   "metadata": {
    "collapsed": false
   },
   "outputs": [],
   "source": [
    "# Loop to create all 8 features sets ie. k = 3,4,5...10\n",
    "from sklearn.feature_selection import SelectKBest, f_classif\n",
    "\n",
    "new_features_list = []\n",
    "feature_score_dict = {}\n",
    "\n",
    "for i in range(3,11):\n",
    "    \n",
    "    selector = SelectKBest(f_classif, k=i)\n",
    "    selector.fit(features, labels)\n",
    "\n",
    "    new_features = selector.transform(features)\n",
    "    \n",
    "    new_features_list.append(new_features)\n",
    "    \n",
    "    # To create a reverse sorted list of tuples of format, (feature, score), to identify the features being used in\n",
    "    # the various algos later.\n",
    "    if i==10:\n",
    "        scores = selector.scores_\n",
    "        features_list.pop(0)\n",
    "        \n",
    "        for j in range(len(scores)):\n",
    "            feature_score_dict[features_list[j]] = scores[j]\n",
    "        \n",
    "        feature_score_tup_sorted = sorted(feature_score_dict.items(), key=operator.itemgetter(1), reverse=True)"
   ]
  },
  {
   "cell_type": "code",
   "execution_count": 11,
   "metadata": {
    "collapsed": false
   },
   "outputs": [],
   "source": [
    "# For each feature set, create training + test features and training + test labels\n",
    "# They are stored in separate lists for easy traversal during training\n",
    "\n",
    "from sklearn.model_selection import train_test_split\n",
    "\n",
    "features_train_list = []\n",
    "features_test_list = []\n",
    "labels_train_list = []\n",
    "labels_test_list = []\n",
    "\n",
    "for features in new_features_list:\n",
    "    features_train, features_test, labels_train, labels_test = \\\n",
    "    train_test_split(features, labels, test_size=0.3, random_state=42)\n",
    "    \n",
    "    features_train_list.append(features_train)\n",
    "    features_test_list.append(features_test)\n",
    "    labels_train_list.append(labels_train)\n",
    "    labels_test_list.append(labels_test)\n"
   ]
  },
  {
   "cell_type": "code",
   "execution_count": 12,
   "metadata": {
    "collapsed": false
   },
   "outputs": [
    {
     "name": "stdout",
     "output_type": "stream",
     "text": [
      "No of sets of training features: 8 \n",
      "\n",
      "No. of features in each data point in 1st set: 3\n",
      "1st set, 1st data point: [ 800000.  495633.  117551.] \n",
      "\n",
      "No. of features in each data point in last set: 10\n",
      "last set, 1st data point: [  3.14288000e+05   8.00000000e+05   4.95633000e+05   1.10139300e+06\n",
      "   3.78082000e+05   1.17551000e+05   2.78610000e+04   7.10000000e+01\n",
      "   0.00000000e+00   1.21212121e-01]\n"
     ]
    }
   ],
   "source": [
    "# For reference and checking\n",
    "\n",
    "print \"No of sets of training features:\", len(features_train_list), \"\\n\"\n",
    "print \"No. of features in each data point in 1st set:\", len(features_train_list[0][0])\n",
    "print \"1st set, 1st data point:\", features_train_list[0][0], \"\\n\"\n",
    "print \"No. of features in each data point in last set:\", len(features_train_list[7][0])\n",
    "print \"last set, 1st data point:\", features_train_list[7][0]"
   ]
  },
  {
   "cell_type": "markdown",
   "metadata": {},
   "source": [
    "# Algorithms"
   ]
  },
  {
   "cell_type": "markdown",
   "metadata": {},
   "source": [
    "<h3>Common Functions</h3>"
   ]
  },
  {
   "cell_type": "code",
   "execution_count": 13,
   "metadata": {
    "collapsed": true
   },
   "outputs": [],
   "source": [
    "# Function for evaluation of algo. \n",
    "# Evaluation is primarily based on precicision score and recall score.\n",
    "# Function will print \"Accept\" if both scores are above 0.3 (udacity's requirement)\n",
    "\n",
    "def evaluate(labels_test, pred):\n",
    "    acc = accuracy_score(labels_test, pred)\n",
    "    ps = precision_score(labels_test, pred)\n",
    "    rs = recall_score(labels_test, pred)\n",
    "\n",
    "    print \"acc:\", acc\n",
    "    print \"precision_score:\", ps\n",
    "    print \"recall_score:\", rs\n",
    "\n",
    "    # Evaluation criteria\n",
    "    print \"\\n\"\n",
    "    if ps < 0.3 or rs < 0.3:\n",
    "        print \"Reject, precision and/or recall score < 0.3\"\n",
    "    else:\n",
    "        print \"Accept\""
   ]
  },
  {
   "cell_type": "markdown",
   "metadata": {},
   "source": [
    "<h3>Decision Tree</h3>"
   ]
  },
  {
   "cell_type": "code",
   "execution_count": 14,
   "metadata": {
    "collapsed": false
   },
   "outputs": [
    {
     "name": "stdout",
     "output_type": "stream",
     "text": [
      "parameters: {'min_samples_split': 5, 'criterion': 'entropy'}\n",
      "k: 3\n",
      "acc: 0.840909090909\n",
      "precision_score: 0.333333333333\n",
      "recall_score: 0.4\n",
      "\n",
      "\n",
      "Accept\n",
      "\n",
      "\n",
      "parameters: {'min_samples_split': 5, 'criterion': 'entropy'}\n",
      "k: 4\n",
      "acc: 0.840909090909\n",
      "precision_score: 0.333333333333\n",
      "recall_score: 0.4\n",
      "\n",
      "\n",
      "Accept\n",
      "\n",
      "\n",
      "parameters: {'min_samples_split': 6, 'criterion': 'entropy'}\n",
      "k: 5\n",
      "acc: 0.886363636364\n",
      "precision_score: 0.5\n",
      "recall_score: 0.8\n",
      "\n",
      "\n",
      "Accept\n",
      "\n",
      "\n",
      "parameters: {'min_samples_split': 9, 'criterion': 'gini'}\n",
      "k: 6\n",
      "acc: 0.795454545455\n",
      "precision_score: 0.0\n",
      "recall_score: 0.0\n",
      "\n",
      "\n",
      "Reject, precision and/or recall score < 0.3\n",
      "\n",
      "\n",
      "parameters: {'min_samples_split': 7, 'criterion': 'entropy'}\n",
      "k: 7\n",
      "acc: 0.886363636364\n",
      "precision_score: 0.5\n",
      "recall_score: 0.6\n",
      "\n",
      "\n",
      "Accept\n",
      "\n",
      "\n",
      "parameters: {'min_samples_split': 9, 'criterion': 'gini'}\n",
      "k: 8\n",
      "acc: 0.818181818182\n",
      "precision_score: 0.285714285714\n",
      "recall_score: 0.4\n",
      "\n",
      "\n",
      "Reject, precision and/or recall score < 0.3\n",
      "\n",
      "\n",
      "parameters: {'min_samples_split': 9, 'criterion': 'gini'}\n",
      "k: 9\n",
      "acc: 0.840909090909\n",
      "precision_score: 0.25\n",
      "recall_score: 0.2\n",
      "\n",
      "\n",
      "Reject, precision and/or recall score < 0.3\n",
      "\n",
      "\n",
      "parameters: {'min_samples_split': 9, 'criterion': 'gini'}\n",
      "k: 10\n",
      "acc: 0.840909090909\n",
      "precision_score: 0.25\n",
      "recall_score: 0.2\n",
      "\n",
      "\n",
      "Reject, precision and/or recall score < 0.3\n",
      "\n",
      "\n"
     ]
    }
   ],
   "source": [
    "# The decision tree algo was run for each of the set of features. Within each, the paramaters are tuned and optimized\n",
    "# using GridSearchCV. All output is shown below.\n",
    "\n",
    "from sklearn import tree\n",
    "from sklearn.model_selection import GridSearchCV\n",
    "from sklearn.metrics import accuracy_score, precision_score, recall_score\n",
    "\n",
    "for i in range(len(features_train_list)):\n",
    "    params = {'min_samples_split':[2,3,4,5,6,7,8,9,10], 'criterion':('gini', 'entropy')}\n",
    "    clf_tree = tree.DecisionTreeClassifier()\n",
    "    clf = GridSearchCV(clf_tree, params)\n",
    "    \n",
    "    features_train = features_train_list[i]\n",
    "    features_test = features_test_list[i]\n",
    "    labels_train = labels_train_list[i]\n",
    "    labels_test = labels_test_list[i]\n",
    "\n",
    "    clf.fit(features_train, labels_train)\n",
    "\n",
    "    print \"parameters:\", clf.best_params_\n",
    "\n",
    "    pred = clf.predict(features_test)\n",
    "    \n",
    "    print \"k:\", len(features_train[0])\n",
    "    evaluate(labels_test, pred)\n",
    "    print \"\\n\""
   ]
  },
  {
   "cell_type": "markdown",
   "metadata": {},
   "source": [
    "<h3>Naive Bayes</h3>"
   ]
  },
  {
   "cell_type": "code",
   "execution_count": 15,
   "metadata": {
    "collapsed": false
   },
   "outputs": [
    {
     "name": "stdout",
     "output_type": "stream",
     "text": [
      "k: 3\n",
      "acc: 0.909090909091\n",
      "precision_score: 0.6\n",
      "recall_score: 0.6\n",
      "\n",
      "\n",
      "Accept\n",
      "\n",
      "\n",
      "k: 4\n",
      "acc: 0.909090909091\n",
      "precision_score: 0.6\n",
      "recall_score: 0.6\n",
      "\n",
      "\n",
      "Accept\n",
      "\n",
      "\n",
      "k: 5\n",
      "acc: 0.909090909091\n",
      "precision_score: 0.6\n",
      "recall_score: 0.6\n",
      "\n",
      "\n",
      "Accept\n",
      "\n",
      "\n",
      "k: 6\n",
      "acc: 0.909090909091\n",
      "precision_score: 0.6\n",
      "recall_score: 0.6\n",
      "\n",
      "\n",
      "Accept\n",
      "\n",
      "\n",
      "k: 7\n",
      "acc: 0.886363636364\n",
      "precision_score: 0.5\n",
      "recall_score: 0.6\n",
      "\n",
      "\n",
      "Accept\n",
      "\n",
      "\n",
      "k: 8\n",
      "acc: 0.886363636364\n",
      "precision_score: 0.5\n",
      "recall_score: 0.6\n",
      "\n",
      "\n",
      "Accept\n",
      "\n",
      "\n",
      "k: 9\n",
      "acc: 0.886363636364\n",
      "precision_score: 0.5\n",
      "recall_score: 0.6\n",
      "\n",
      "\n",
      "Accept\n",
      "\n",
      "\n",
      "k: 10\n",
      "acc: 0.886363636364\n",
      "precision_score: 0.5\n",
      "recall_score: 0.6\n",
      "\n",
      "\n",
      "Accept\n",
      "\n",
      "\n"
     ]
    }
   ],
   "source": [
    "# The naive bayes algo was run for each of the set of features. All output is shown below.\n",
    "\n",
    "from sklearn.naive_bayes import GaussianNB\n",
    "\n",
    "for i in range(len(features_train_list)):\n",
    "    \n",
    "    clf = GaussianNB()\n",
    "    \n",
    "    features_train = features_train_list[i]\n",
    "    features_test = features_test_list[i]\n",
    "    labels_train = labels_train_list[i]\n",
    "    labels_test = labels_test_list[i]\n",
    "\n",
    "    clf.fit(features_train, labels_train)\n",
    "\n",
    "    pred = clf.predict(features_test)\n",
    "    \n",
    "    print \"k:\", len(features_train[0])\n",
    "    evaluate(labels_test, pred)\n",
    "    print \"\\n\""
   ]
  },
  {
   "cell_type": "markdown",
   "metadata": {},
   "source": [
    "<h3>K Nearest Neighbors</h3>"
   ]
  },
  {
   "cell_type": "code",
   "execution_count": 16,
   "metadata": {
    "collapsed": false
   },
   "outputs": [
    {
     "name": "stdout",
     "output_type": "stream",
     "text": [
      "{'n_neighbors': 3}\n",
      "k: 3\n",
      "acc: 0.863636363636\n",
      "precision_score: 0.333333333333\n",
      "recall_score: 0.2\n",
      "\n",
      "\n",
      "Reject, precision and/or recall score < 0.3\n",
      "\n",
      "\n",
      "{'n_neighbors': 2}\n",
      "k: 4\n",
      "acc: 0.863636363636\n",
      "precision_score: 0.0\n",
      "recall_score: 0.0\n",
      "\n",
      "\n",
      "Reject, precision and/or recall score < 0.3\n",
      "\n",
      "\n",
      "{'n_neighbors': 2}\n",
      "k: 5\n",
      "acc: 0.863636363636\n",
      "precision_score: 0.0\n",
      "recall_score: 0.0\n",
      "\n",
      "\n",
      "Reject, precision and/or recall score < 0.3\n",
      "\n",
      "\n",
      "{'n_neighbors': 3}\n",
      "k: 6\n",
      "acc: 0.840909090909\n",
      "precision_score: 0.25\n",
      "recall_score: 0.2\n",
      "\n",
      "\n",
      "Reject, precision and/or recall score < 0.3\n",
      "\n",
      "\n",
      "{'n_neighbors': 3}\n",
      "k: 7\n",
      "acc: 0.909090909091\n",
      "precision_score: 0.666666666667\n",
      "recall_score: 0.4\n",
      "\n",
      "\n",
      "Accept\n",
      "\n",
      "\n",
      "{'n_neighbors': 3}\n",
      "k: 8\n",
      "acc: 0.909090909091\n",
      "precision_score: 0.666666666667\n",
      "recall_score: 0.4\n",
      "\n",
      "\n",
      "Accept\n",
      "\n",
      "\n",
      "{'n_neighbors': 3}\n",
      "k: 9\n",
      "acc: 0.909090909091\n",
      "precision_score: 0.666666666667\n",
      "recall_score: 0.4\n",
      "\n",
      "\n",
      "Accept\n",
      "\n",
      "\n",
      "{'n_neighbors': 3}\n",
      "k: 10\n",
      "acc: 0.909090909091\n",
      "precision_score: 0.666666666667\n",
      "recall_score: 0.4\n",
      "\n",
      "\n",
      "Accept\n",
      "\n",
      "\n"
     ]
    }
   ],
   "source": [
    "# The K nearest neighbor algo was run for each of the set of features. Within each, the paramaters are tuned \n",
    "# and optimized using GridSearchCV. All output is shown below.\n",
    "\n",
    "from sklearn.neighbors import KNeighborsClassifier\n",
    "\n",
    "for i in range(len(features_train_list)):\n",
    "    params = {'n_neighbors':[2,3,4,5,6,7,8,9,10]}\n",
    "    clf_knn = KNeighborsClassifier()\n",
    "    clf = GridSearchCV(clf_knn, params)\n",
    "    \n",
    "    features_train = features_train_list[i]\n",
    "    features_test = features_test_list[i]\n",
    "    labels_train = labels_train_list[i]\n",
    "    labels_test = labels_test_list[i]\n",
    "\n",
    "    clf.fit(features_train, labels_train)\n",
    "\n",
    "    print clf.best_params_\n",
    "\n",
    "    pred = clf.predict(features_test)\n",
    "    \n",
    "    print \"k:\", len(features_train[0])\n",
    "    evaluate(labels_test, pred)\n",
    "    print \"\\n\""
   ]
  },
  {
   "cell_type": "markdown",
   "metadata": {},
   "source": [
    "<h3>AdaBoost</h3>"
   ]
  },
  {
   "cell_type": "code",
   "execution_count": 17,
   "metadata": {
    "collapsed": false
   },
   "outputs": [
    {
     "name": "stdout",
     "output_type": "stream",
     "text": [
      "k: 3\n",
      "acc: 0.795454545455\n",
      "precision_score: 0.0\n",
      "recall_score: 0.0\n",
      "\n",
      "\n",
      "Reject, precision and/or recall score < 0.3\n",
      "\n",
      "\n",
      "k: 4\n",
      "acc: 0.840909090909\n",
      "precision_score: 0.0\n",
      "recall_score: 0.0\n",
      "\n",
      "\n",
      "Reject, precision and/or recall score < 0.3\n",
      "\n",
      "\n",
      "k: 5\n",
      "acc: 0.840909090909\n",
      "precision_score: 0.0\n",
      "recall_score: 0.0\n",
      "\n",
      "\n",
      "Reject, precision and/or recall score < 0.3\n",
      "\n",
      "\n",
      "k: 6\n",
      "acc: 0.795454545455\n",
      "precision_score: 0.0\n",
      "recall_score: 0.0\n",
      "\n",
      "\n",
      "Reject, precision and/or recall score < 0.3\n",
      "\n",
      "\n",
      "k: 7\n",
      "acc: 0.795454545455\n",
      "precision_score: 0.166666666667\n",
      "recall_score: 0.2\n",
      "\n",
      "\n",
      "Reject, precision and/or recall score < 0.3\n",
      "\n",
      "\n",
      "k: 8\n",
      "acc: 0.818181818182\n",
      "precision_score: 0.2\n",
      "recall_score: 0.2\n",
      "\n",
      "\n",
      "Reject, precision and/or recall score < 0.3\n",
      "\n",
      "\n",
      "k: 9\n",
      "acc: 0.818181818182\n",
      "precision_score: 0.2\n",
      "recall_score: 0.2\n",
      "\n",
      "\n",
      "Reject, precision and/or recall score < 0.3\n",
      "\n",
      "\n",
      "k: 10\n",
      "acc: 0.795454545455\n",
      "precision_score: 0.25\n",
      "recall_score: 0.4\n",
      "\n",
      "\n",
      "Reject, precision and/or recall score < 0.3\n",
      "\n",
      "\n"
     ]
    }
   ],
   "source": [
    "# The AdaBoost algo was run for each of the set of features. All output is shown below.\n",
    "\n",
    "from sklearn.ensemble import AdaBoostClassifier\n",
    "\n",
    "for i in range(len(features_train_list)):\n",
    "    \n",
    "    clf = AdaBoostClassifier()\n",
    "    \n",
    "    features_train = features_train_list[i]\n",
    "    features_test = features_test_list[i]\n",
    "    labels_train = labels_train_list[i]\n",
    "    labels_test = labels_test_list[i]\n",
    "\n",
    "    clf.fit(features_train, labels_train)\n",
    "\n",
    "    pred = clf.predict(features_test)\n",
    "    \n",
    "    print \"k:\", len(features_train[0])\n",
    "    evaluate(labels_test, pred)\n",
    "    print \"\\n\""
   ]
  },
  {
   "cell_type": "markdown",
   "metadata": {},
   "source": [
    "<h3>Support Vector Machine</h3>\n",
    "\n",
    "SVM was implemented separately from the algos above as it required an additional step of feature scaling. Additionally, after some testing, it was also found that with more than 4 features, the result was not at all desirable ie. recall and precision scores were 0. So, SVM was not run using the 8 sets of features from above; only with set of 3 and 4 features. Best performing scenario (k=3) is shown below."
   ]
  },
  {
   "cell_type": "code",
   "execution_count": 18,
   "metadata": {
    "collapsed": false
   },
   "outputs": [
    {
     "name": "stdout",
     "output_type": "stream",
     "text": [
      "{'kernel': 'rbf', 'C': 10, 'gamma': 100}\n",
      "acc: 0.886363636364\n",
      "precision_score: 0.5\n",
      "recall_score: 0.2\n",
      "\n",
      "\n",
      "Reject, precision and/or recall score < 0.3\n"
     ]
    }
   ],
   "source": [
    "from sklearn.svm import SVC\n",
    "from sklearn.preprocessing import MinMaxScaler\n",
    "\n",
    "# Since the scale of data varies significantly across the various features, feature scaling is required.\n",
    "scaler = MinMaxScaler()\n",
    "rescaled_features = scaler.fit_transform(features)\n",
    "\n",
    "# After rescaling, feature selection was implemented.\n",
    "selector = SelectKBest(f_classif, k=3)\n",
    "selector.fit(rescaled_features, labels)\n",
    "new_rescaled_features = selector.transform(rescaled_features)\n",
    "\n",
    "# After selecting the best features, they were split into training and testing features\n",
    "new_rescaled_features_train, new_rescaled_features_test, labels_train, labels_test = \\\n",
    "    train_test_split(new_rescaled_features, labels, test_size=0.3, random_state=42)\n",
    "\n",
    "# SVM algo\n",
    "params = {'kernel':('linear','rbf'), 'C':[10,100,1000,10000], 'gamma':[10,100,1000,10000]}\n",
    "clf_svc = SVC()\n",
    "clf = GridSearchCV(clf_svc, params)\n",
    "clf.fit(new_rescaled_features_train, labels_train)\n",
    "\n",
    "print clf.best_params_\n",
    "\n",
    "pred = clf.predict(new_rescaled_features_test)\n",
    "\n",
    "evaluate(labels_test, pred)"
   ]
  },
  {
   "cell_type": "markdown",
   "metadata": {},
   "source": [
    "<h3>Principal Component Analysis (PCA)</h3>\n",
    "\n",
    "Implemented PCA to reduce feature dimensionality, identify potential latent features (subset of features that drive the patterns in data) and hopefully improve performance of algorithms. \"n_components\" parameter in PCA was set to be 4 (other values were tested but this provided best results). The alogos used were Decision Tree, Naive Bayes, K Nearest Neighbours and AdaBoost."
   ]
  },
  {
   "cell_type": "code",
   "execution_count": 19,
   "metadata": {
    "collapsed": false
   },
   "outputs": [
    {
     "name": "stdout",
     "output_type": "stream",
     "text": [
      "Importance value (eigenvalue) for each principal component:\n",
      "[ 0.88519242  0.09854918  0.01223282  0.00383618] \n",
      "\n"
     ]
    }
   ],
   "source": [
    "from sklearn.decomposition import PCA\n",
    "\n",
    "pca = PCA(n_components=4)\n",
    "\n",
    "# \"features\" being used here is prior to any feature selection done above. So, it contains all 10 feature data\n",
    "# and has not been split into training or test data yet. \n",
    "features_train, features_test, labels_train, labels_test = \\\n",
    "    train_test_split(features, labels, test_size=0.3, random_state=42)\n",
    "\n",
    "pca.fit(features_train)\n",
    "\n",
    "trans_features_train = pca.transform(features_train)\n",
    "trans_features_test = pca.transform(features_test)\n",
    "\n",
    "print \"Importance value (eigenvalue) for each principal component:\"\n",
    "print pca.explained_variance_ratio_, \"\\n\"\n",
    "\n",
    "# To view the breakdown of each component. Commented out as its not necessary for the project, only for reference\n",
    "# print \"first pc\", pca.components_[0]\n",
    "# print \"second pc\", pca.components_[1]\n",
    "# print \"third pc\", pca.components_[2]"
   ]
  },
  {
   "cell_type": "code",
   "execution_count": 20,
   "metadata": {
    "collapsed": false
   },
   "outputs": [
    {
     "name": "stdout",
     "output_type": "stream",
     "text": [
      "parameters: {'min_samples_split': 10, 'criterion': 'entropy'}\n",
      "acc: 0.772727272727\n",
      "precision_score: 0.0\n",
      "recall_score: 0.0\n",
      "\n",
      "\n",
      "Reject, precision and/or recall score < 0.3\n",
      "\n",
      "\n"
     ]
    }
   ],
   "source": [
    "# Decision Tree\n",
    "\n",
    "params = {'min_samples_split':[2,3,4,5,6,7,8,9,10], 'criterion':('gini', 'entropy')}\n",
    "clf_tree = tree.DecisionTreeClassifier()\n",
    "clf = GridSearchCV(clf_tree, params)\n",
    "\n",
    "clf.fit(trans_features_train, labels_train)\n",
    "\n",
    "print \"parameters:\", clf.best_params_\n",
    "\n",
    "pred = clf.predict(trans_features_test)\n",
    "\n",
    "evaluate(labels_test, pred)\n",
    "print \"\\n\""
   ]
  },
  {
   "cell_type": "code",
   "execution_count": 21,
   "metadata": {
    "collapsed": false
   },
   "outputs": [
    {
     "name": "stdout",
     "output_type": "stream",
     "text": [
      "{'n_neighbors': 3}\n",
      "acc: 0.909090909091\n",
      "precision_score: 0.666666666667\n",
      "recall_score: 0.4\n",
      "\n",
      "\n",
      "Accept\n",
      "\n",
      "\n"
     ]
    }
   ],
   "source": [
    "# K Nearest Neighbours\n",
    "\n",
    "params = {'n_neighbors':[2,3,4,5,6,7,8,9,10]}\n",
    "clf_knn = KNeighborsClassifier()\n",
    "clf = GridSearchCV(clf_knn, params)\n",
    "\n",
    "clf.fit(trans_features_train, labels_train)\n",
    "\n",
    "print clf.best_params_\n",
    "\n",
    "pred = clf.predict(trans_features_test)\n",
    "\n",
    "evaluate(labels_test, pred)\n",
    "print \"\\n\""
   ]
  },
  {
   "cell_type": "code",
   "execution_count": 22,
   "metadata": {
    "collapsed": false
   },
   "outputs": [
    {
     "name": "stdout",
     "output_type": "stream",
     "text": [
      "acc: 0.886363636364\n",
      "precision_score: 0.5\n",
      "recall_score: 0.6\n",
      "\n",
      "\n",
      "Accept\n",
      "\n",
      "\n"
     ]
    }
   ],
   "source": [
    "# Naive Bayes\n",
    "\n",
    "clf = GaussianNB()\n",
    "\n",
    "clf.fit(trans_features_train, labels_train)\n",
    "\n",
    "pred = clf.predict(trans_features_test)\n",
    "\n",
    "evaluate(labels_test, pred)\n",
    "print \"\\n\"\n"
   ]
  },
  {
   "cell_type": "code",
   "execution_count": 23,
   "metadata": {
    "collapsed": false
   },
   "outputs": [
    {
     "name": "stdout",
     "output_type": "stream",
     "text": [
      "acc: 0.840909090909\n",
      "precision_score: 0.333333333333\n",
      "recall_score: 0.4\n",
      "\n",
      "\n",
      "Accept\n",
      "\n",
      "\n"
     ]
    }
   ],
   "source": [
    "# AdaBoost\n",
    "\n",
    "clf = AdaBoostClassifier()\n",
    "\n",
    "clf.fit(trans_features_train, labels_train)\n",
    "\n",
    "pred = clf.predict(trans_features_test)\n",
    "\n",
    "evaluate(labels_test, pred)\n",
    "print \"\\n\""
   ]
  },
  {
   "cell_type": "markdown",
   "metadata": {},
   "source": [
    "# Results & Conclusion\n",
    "\n",
    "<h3>Algorithm Performance</h3>\n",
    "Shown below are the algorithms and the corresponding parameter configurations that produced the best results (ie. highest precision and recall score). Some of the algorithms actually gave the same scores for different values of k (no. of features). Since it is always better to obtain the same result with less data (ie. less features), in such cases, the algorithm and parameter tunings with lowest k was selected. \n",
    "\n",
    "algorithm: Decision Tree\n",
    "<br>\n",
    "parameters: {'min_samples_split': 6, 'criterion': 'entropy'}\n",
    "<br>\n",
    "k: 5\n",
    "<br>\n",
    "acc: 0.886363636364\n",
    "<br>\n",
    "precision_score: 0.5\n",
    "<br>\n",
    "recall_score: 0.8\n",
    "<br>\n",
    "<br>\n",
    "algorithm: Naive Bayes\n",
    "<br>\n",
    "k: 3\n",
    "<br>\n",
    "acc: 0.909090909091\n",
    "<br>\n",
    "precision_score: 0.6\n",
    "<br>\n",
    "recall_score: 0.6\n",
    "<br>\n",
    "<br>\n",
    "algorithm: K Nearest Neighbor\n",
    "<br>\n",
    "{'n_neighbors': 3}\n",
    "<br>\n",
    "k: 7\n",
    "<br>\n",
    "acc: 0.909090909091\n",
    "<br>\n",
    "precision_score: 0.666666666667\n",
    "<br>\n",
    "recall_score: 0.4\n",
    "<br>\n",
    "<br>"
   ]
  },
  {
   "cell_type": "markdown",
   "metadata": {
    "collapsed": true
   },
   "source": [
    "<h3>Choosing Algorithm</h3>\n",
    "Having identified the top 3 performing algorithms and configurations, Udacity's tester.py script was used to select the best among them. The script does k-fold cross validation and evaluates the classifier. It was not used for evaluating all possible cases of the various algorithms above mainly because compute time and power required would increase significantly. As such, basic evaluation was first done to select the top 3 algos before running Udacity's script.\n",
    "<br>\n",
    "Note: test.py was run for all 3 algos, but only the best performing case is shown below."
   ]
  },
  {
   "cell_type": "code",
   "execution_count": 45,
   "metadata": {
    "collapsed": false
   },
   "outputs": [
    {
     "name": "stdout",
     "output_type": "stream",
     "text": [
      "Parameters chosen:\n",
      "['exercised_stock_options', 'total_stock_value', 'bonus']\n"
     ]
    }
   ],
   "source": [
    "# Identify the features used in the algos. \n",
    "final_features_list = []\n",
    "\n",
    "# for Decision tree - range(5), Naive Bayes - range(3), K Nearest Neighbors - range(7)\n",
    "for i in range(3):\n",
    "    final_features_list.append(feature_score_tup_sorted[i][0])\n",
    "    \n",
    "print \"Parameters chosen:\"\n",
    "print final_features_list"
   ]
  },
  {
   "cell_type": "code",
   "execution_count": 46,
   "metadata": {
    "collapsed": false
   },
   "outputs": [],
   "source": [
    "# Dump classifier, dataset and feature_list into .pkl files which are input for tester.py code.\n",
    "\n",
    "final_features_list.insert(0,\"poi\")\n",
    "\n",
    "data = featureFormat(my_dataset, final_features_list, sort_keys = True)\n",
    "labels, features = targetFeatureSplit(data)\n",
    "\n",
    "# create training and testing features based on chosen features\n",
    "features_train, features_test, labels_train, labels_test = \\\n",
    "    train_test_split(features, labels, test_size=0.3, random_state=42)\n",
    "\n",
    "# create clf with chosen algo and parameter config - only best performing case is uncommented below\n",
    "\n",
    "#clf = tree.DecisionTreeClassifier(min_samples_split=6, criterion='entropy')\n",
    "clf = GaussianNB()\n",
    "#clf = KNeighborsClassifier(n_neighbors=3)\n",
    "\n",
    "clf.fit(features_train, labels_train)\n",
    "\n",
    "# dump into .pkl files\n",
    "dump_classifier_and_data(clf, my_dataset, final_features_list)"
   ]
  },
  {
   "cell_type": "markdown",
   "metadata": {},
   "source": [
    "<h3>Output from tester.py</h3>\n",
    "<br>\n",
    "<b>1. </b>DecisionTreeClassifier(class_weight=None, criterion='entropy', max_depth=None, max_features=None, max_leaf_nodes=None, min_impurity_split=1e-07, min_samples_leaf=1, min_samples_split=6, min_weight_fraction_leaf=0.0, presort=False, random_state=None, splitter='best')\n",
    "<br>\n",
    "<br>\n",
    "Accuracy: 0.80529\tPrecision: 0.32747\tRecall: 0.34450\tF1: 0.33577\tF2: 0.34095\n",
    "<br>\n",
    "<br>\n",
    "Total predictions: 14000\n",
    "<br>\n",
    "<br>\n",
    "True positives:  689\tFalse positives: 1415\tFalse negatives: 1311\tTrue negatives: 10585\n",
    "<br>\n",
    "<br>\n",
    "<br>\n",
    "<b>2. </b>GaussianNB(priors=None)\n",
    "<br>\n",
    "<br>\n",
    "Accuracy: 0.84300\tPrecision: 0.48581\tRecall: 0.35100\tF1: 0.40755\tF2: 0.37163\n",
    "<br>\n",
    "<br>\n",
    "Total predictions: 13000\n",
    "<br>\n",
    "<br>\n",
    "True positives:  702\tFalse positives:  743\tFalse negatives: 1298\tTrue negatives: 10257\n",
    "<br>\n",
    "<br>\n",
    "<br>\n",
    "<b>3. </b>KNeighborsClassifier(algorithm='auto', leaf_size=30, metric='minkowski', metric_params=None, n_jobs=1, n_neighbors=3, p=2,weights='uniform')\n",
    "<br>\n",
    "<br>\n",
    "Accuracy: 0.86720\tPrecision: 0.50402\tRecall: 0.25100\tF1: 0.33511\tF2: 0.27901\n",
    "<br>\n",
    "<br>\n",
    "Total predictions: 15000\n",
    "<br>\n",
    "<br>\n",
    "True positives:  502\tFalse positives:  494\tFalse negatives: 1498\tTrue negatives: 12506\n",
    "<br>\n",
    "<br>\n",
    "<br>\n",
    "Note: The recall and precision scores initially obtained are different from the tester.py values because the latter uses k-fold cross validation.\n"
   ]
  },
  {
   "cell_type": "markdown",
   "metadata": {},
   "source": [
    "# End of Project\n",
    "\n",
    "Based on the results above, Gaussian Naive Bayes with 3 training features is the best performing algorithm and is the final algo chosen for this project. "
   ]
  }
 ],
 "metadata": {
  "kernelspec": {
   "display_name": "Python 2",
   "language": "python",
   "name": "python2"
  },
  "language_info": {
   "codemirror_mode": {
    "name": "ipython",
    "version": 2
   },
   "file_extension": ".py",
   "mimetype": "text/x-python",
   "name": "python",
   "nbconvert_exporter": "python",
   "pygments_lexer": "ipython2",
   "version": "2.7.10"
  }
 },
 "nbformat": 4,
 "nbformat_minor": 1
}
